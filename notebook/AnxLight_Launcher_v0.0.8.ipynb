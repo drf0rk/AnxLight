{
  "nbformat": 4,
  "nbformat_minor": 0,
  "metadata": {
    "colab": {
      "provenance": [],
      "gpuType": "T4",
      "include_colab_link": true
    },
    "kernelspec": {
      "name": "python3",
      "display_name": "Python 3"
    },
    "language_info": {
      "name": "python"
    },
    "accelerator": "GPU"
  },
  "cells": [
    {
      "cell_type": "markdown",
      "metadata": {
        "id": "view-in-github",
        "colab_type": "text"
      },
      "source": [
        "<a href=\"https://colab.research.google.com/github/drf0rk/AnxLight/blob/main/notebook/AnxLight_Launcher_v0.0.8.ipynb\" target=\"_parent\"><img src=\"https://colab.research.google.com/assets/colab-badge.svg\" alt=\"Open In Colab\"/></a>"
      ]
    },
    {
      "cell_type": "code",
      "source": [
        "# @title Cell 1: AnxLight v3 Pre-Flight Setup\n",
        "# This cell ensures the repository is up-to-date and runs the main environment setup.\n",
        "\n",
        "import os\n",
        "import subprocess\n",
        "import sys\n",
        "\n",
        "print(\"--- AnxLight v3 Pre-Flight Setup Cell ---\")\n",
        "\n",
        "# --- Step 1: Clone/Update the Repository ---\n",
        "repo_path = '/content/AnxLight'\n",
        "if not os.path.exists(repo_path):\n",
        "    print(\"Cloning AnxLight repository...\")\n",
        "    try:\n",
        "        subprocess.run(['git', 'clone', 'https://github.com/drf0rk/AnxLight.git', repo_path], check=True)\n",
        "    except subprocess.CalledProcessError as e:\n",
        "        print(f\"FATAL: Failed to clone repository. Error: {e}\")\n",
        "        sys.exit(1) # Stop execution\n",
        "else:\n",
        "    print(\"AnxLight repository already exists. Pulling latest changes...\")\n",
        "    try:\n",
        "        # Discard any local changes and pull the latest from the repo for a clean state\n",
        "        subprocess.run(['git', '-C', repo_path, 'reset', '--hard', 'origin/main'], check=True)\n",
        "        subprocess.run(['git', '-C', repo_path, 'pull'], check=True)\n",
        "    except subprocess.CalledProcessError as e:\n",
        "        print(f\"WARNING: Failed to pull latest changes. Error: {e}\")\n",
        "\n",
        "\n",
        "# --- Step 2: Change Directory and Set Environment ---\n",
        "os.chdir(repo_path)\n",
        "print(f\"Current working directory: {os.getcwd()}\")\n",
        "os.environ['PROJECT_ROOT'] = repo_path\n",
        "print(f\"Environment variable PROJECT_ROOT set to: {os.environ['PROJECT_ROOT']}\")\n",
        "\n",
        "\n",
        "# --- Step 3: Execute the Pre-Flight Setup Script ---\n",
        "project_root = os.environ.get('PROJECT_ROOT', repo_path)\n",
        "pre_flight_script_path = os.path.join(project_root, 'scripts', 'pre_flight_setup.py')\n",
        "python_executable = sys.executable\n",
        "\n",
        "if not os.path.exists(pre_flight_script_path):\n",
        "    print(f\"FATAL: The pre-flight setup script was not found at {pre_flight_script_path}\")\n",
        "    sys.exit(1)\n",
        "\n",
        "print(f\"\\n--- Executing Pre-Flight Setup Script ---\")\n",
        "print(f\"Running command: {python_executable} {pre_flight_script_path}\")\n",
        "print(\"-\" * 40)\n",
        "\n",
        "try:\n",
        "    subprocess.run([python_executable, pre_flight_script_path], check=True)\n",
        "    print(\"-\" * 40)\n",
        "    print(\"--- Pre-Flight Setup Script Finished Successfully ---\")\n",
        "except subprocess.CalledProcessError as e:\n",
        "    print(\"-\" * 40)\n",
        "    print(f\"FATAL: Pre-Flight Setup Script failed with return code {e.returncode}.\")\n",
        "    print(\"Please check the logs above for errors. Cell 2 will likely fail.\")\n",
        "    sys.exit(1)"
      ],
      "metadata": {
        "cellView": "form",
        "id": "OhMeSQXAuEyM",
        "outputId": "8539c5df-cf6a-4eae-d02b-f9cf3f8575bd",
        "colab": {
          "base_uri": "https://localhost:8080/"
        }
      },
      "execution_count": null,
      "outputs": [
        {
          "output_type": "stream",
          "name": "stdout",
          "text": [
            "--- AnxLight v3 Pre-Flight Setup Cell ---\n",
            "AnxLight repository already exists. Pulling latest changes...\n",
            "Current working directory: /content/AnxLight\n",
            "Environment variable PROJECT_ROOT set to: /content/AnxLight\n",
            "\n",
            "--- Executing Pre-Flight Setup Script ---\n",
            "Running command: /usr/bin/python3 /content/AnxLight/scripts/pre_flight_setup.py\n",
            "----------------------------------------\n"
          ]
        }
      ]
    },
    {
      "cell_type": "code",
      "source": [
        "# @title Cell 2: AnxLight v3 Gradio App Launcher (Keeps Process Alive)\n",
        "# This cell launches the main Gradio UI and then waits, keeping the process alive.\n",
        "\n",
        "import os\n",
        "import sys\n",
        "import subprocess\n",
        "import time\n",
        "\n",
        "print(\"--- AnxLight v3 Launch Cell ---\")\n",
        "\n",
        "project_root = os.environ.get('PROJECT_ROOT', '/content/AnxLight')\n",
        "venv_python_path = os.path.join(project_root, 'anxlight_venv', 'bin', 'python')\n",
        "main_gradio_script_path = os.path.join(project_root, 'scripts', 'main_gradio_app.py')\n",
        "\n",
        "if not all(os.path.exists(p) for p in [project_root, venv_python_path, main_gradio_script_path]):\n",
        "    print(f\"\\n[CRITICAL ERROR] A required file or directory was not found. Please ensure Cell 1 ran successfully.\")\n",
        "    sys.exit(1)\n",
        "\n",
        "gradio_env = os.environ.copy()\n",
        "gradio_env['PYTHONPATH'] = f\"{os.path.join(project_root, 'modules')}:{project_root}:{os.path.join(project_root, 'scripts')}:{gradio_env.get('PYTHONPATH', '')}\"\n",
        "\n",
        "print(\"\\n--- Launching Gradio Application Subprocess ---\")\n",
        "print(f\"Executing: {venv_python_path} {main_gradio_script_path}\")\n",
        "\n",
        "gradio_process = subprocess.Popen(\n",
        "    [venv_python_path, main_gradio_script_path],\n",
        "    stdout=subprocess.PIPE,\n",
        "    stderr=subprocess.STDOUT,\n",
        "    text=True,\n",
        "    bufsize=1,\n",
        "    universal_newlines=True,\n",
        "    env=gradio_env,\n",
        "    cwd=project_root\n",
        ")\n",
        "\n",
        "print(\"\\n--- Waiting for Gradio to launch and provide a public URL... ---\")\n",
        "\n",
        "# Monitor for the URL\n",
        "url_found = False\n",
        "for line in iter(gradio_process.stdout.readline, ''):\n",
        "    print(line, end='')\n",
        "    if \"Running on public URL:\" in line:\n",
        "        print(\"\\n\" + \"=\"*60)\n",
        "        print(\"          GRADIO IS RUNNING AND READY!\")\n",
        "        print(\"          Click the public URL above to open the UI.\")\n",
        "        print(\"\\n          This cell will continue to run to keep the app alive.\")\n",
        "        print(\"          Stop this cell manually when you are finished.\")\n",
        "        print(\"=\"*60 + \"\\n\")\n",
        "        url_found = True\n",
        "        break # Exit the initial monitoring loop\n",
        "\n",
        "# If the URL was found, wait for the process to terminate.\n",
        "# This will keep the cell running and the Gradio app alive.\n",
        "if url_found:\n",
        "    # Now, stream the rest of the output indefinitely\n",
        "    for line in iter(gradio_process.stdout.readline, ''):\n",
        "        print(line, end='')\n",
        "    # The script will wait here until the process is manually stopped.\n",
        "    gradio_process.wait()\n",
        "else:\n",
        "    print(\"\\n[ERROR] The Gradio process finished before a public URL was generated. Check logs for errors.\")"
      ],
      "metadata": {
        "cellView": "form",
        "id": "G8l09rEouF3M"
      },
      "execution_count": null,
      "outputs": []
    }
  ]
}